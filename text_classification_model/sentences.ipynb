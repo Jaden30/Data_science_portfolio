{
 "cells": [
  {
   "cell_type": "code",
   "execution_count": 2,
   "id": "f049021a",
   "metadata": {},
   "outputs": [
    {
     "data": {
      "text/html": [
       "<div>\n",
       "<style scoped>\n",
       "    .dataframe tbody tr th:only-of-type {\n",
       "        vertical-align: middle;\n",
       "    }\n",
       "\n",
       "    .dataframe tbody tr th {\n",
       "        vertical-align: top;\n",
       "    }\n",
       "\n",
       "    .dataframe thead th {\n",
       "        text-align: right;\n",
       "    }\n",
       "</style>\n",
       "<table border=\"1\" class=\"dataframe\">\n",
       "  <thead>\n",
       "    <tr style=\"text-align: right;\">\n",
       "      <th></th>\n",
       "      <th>sentence</th>\n",
       "      <th>label</th>\n",
       "      <th>source</th>\n",
       "    </tr>\n",
       "  </thead>\n",
       "  <tbody>\n",
       "    <tr>\n",
       "      <th>0</th>\n",
       "      <td>Wow... Loved this place.</td>\n",
       "      <td>1</td>\n",
       "      <td>yelp</td>\n",
       "    </tr>\n",
       "    <tr>\n",
       "      <th>1</th>\n",
       "      <td>Crust is not good.</td>\n",
       "      <td>0</td>\n",
       "      <td>yelp</td>\n",
       "    </tr>\n",
       "    <tr>\n",
       "      <th>2</th>\n",
       "      <td>Not tasty and the texture was just nasty.</td>\n",
       "      <td>0</td>\n",
       "      <td>yelp</td>\n",
       "    </tr>\n",
       "    <tr>\n",
       "      <th>3</th>\n",
       "      <td>Stopped by during the late May bank holiday of...</td>\n",
       "      <td>1</td>\n",
       "      <td>yelp</td>\n",
       "    </tr>\n",
       "    <tr>\n",
       "      <th>4</th>\n",
       "      <td>The selection on the menu was great and so wer...</td>\n",
       "      <td>1</td>\n",
       "      <td>yelp</td>\n",
       "    </tr>\n",
       "  </tbody>\n",
       "</table>\n",
       "</div>"
      ],
      "text/plain": [
       "                                            sentence  label source\n",
       "0                           Wow... Loved this place.      1   yelp\n",
       "1                                 Crust is not good.      0   yelp\n",
       "2          Not tasty and the texture was just nasty.      0   yelp\n",
       "3  Stopped by during the late May bank holiday of...      1   yelp\n",
       "4  The selection on the menu was great and so wer...      1   yelp"
      ]
     },
     "execution_count": 2,
     "metadata": {},
     "output_type": "execute_result"
    }
   ],
   "source": [
    "import pandas as pd \n",
    "\n",
    "#putting our files into a dictionary \n",
    "\n",
    "filepath_dict = { \"yelp\" : \"sentiment_sentences/yelp_labelled.txt\",\n",
    "                  \"amazon\" : \"sentiment_sentences/amazon_cells_labelled.txt\",\n",
    "                  \"imdb\"   : \"sentiment_sentences/imdb_labelled.txt\"\n",
    "                }\n",
    "\n",
    "#creating an empty list \n",
    "df_list = []\n",
    "#we are creating a loop asking it to read the items as a csv file \n",
    "# and creating a column known as sentence and label, using the sentence and label in the dataset \n",
    "# creating another column called source using source \n",
    "for source, filepath in filepath_dict.items():\n",
    "    sentences = pd.read_csv(filepath, names=['sentence', 'label'], sep='\\t')\n",
    "    sentences['source'] = source \n",
    "    df_list.append(sentences) # appending it to the empty list \n",
    " \n",
    "sentences = pd.concat(df_list)\n",
    "sentences.head()"
   ]
  },
  {
   "cell_type": "code",
   "execution_count": null,
   "id": "0a49ec32",
   "metadata": {},
   "outputs": [],
   "source": []
  },
  {
   "cell_type": "markdown",
   "id": "a04a17ef",
   "metadata": {},
   "source": []
  },
  {
   "cell_type": "markdown",
   "id": "d5dd5334",
   "metadata": {},
   "source": []
  },
  {
   "cell_type": "code",
   "execution_count": null,
   "id": "5451c029",
   "metadata": {},
   "outputs": [],
   "source": []
  },
  {
   "cell_type": "code",
   "execution_count": 5,
   "id": "1801d40b",
   "metadata": {},
   "outputs": [],
   "source": [
    "# definning a baseline model\n",
    "# using only sources yelp \n",
    "from sklearn.model_selection import train_test_split\n",
    "\n",
    "source_yelp = sentences[sentences['source'] =='yelp']\n",
    "sentence = source_yelp['sentence'].values  # to extract values \n",
    "label = source_yelp['label'].values # we are using the values as y\n",
    "\n",
    "# always use a smaller test \n",
    "# and a large train set \n",
    "sentence_train, sentence_test, label_train, label_test = train_test_split(\n",
    "  sentence, label, test_size=0.25, random_state=1000)\n"
   ]
  },
  {
   "cell_type": "code",
   "execution_count": 9,
   "id": "d47ab049",
   "metadata": {},
   "outputs": [],
   "source": [
    "#we are going to vectorize our feature\n",
    "#creating a Bag of words \n",
    "from sklearn.feature_extraction.text import CountVectorizer \n",
    "\n",
    "vectorizer = CountVectorizer()\n",
    "vectorizer.fit(sentence_train) # to create the bag of words for it to test it by \n",
    "\n",
    "X_train = vectorizer.transform(sentence_train) # to vectorize it, 0 if it does not exist,1 if it does in the bag of words \n",
    "X_test = vectorizer.transform(sentence_test)"
   ]
  },
  {
   "cell_type": "code",
   "execution_count": 11,
   "id": "56804031",
   "metadata": {},
   "outputs": [
    {
     "name": "stdout",
     "output_type": "stream",
     "text": [
      "Accuracy:  0.796\n"
     ]
    }
   ],
   "source": [
    "from sklearn.linear_model import LogisticRegression \n",
    "\n",
    "classifier = LogisticRegression()\n",
    "classifier.fit(X_train, label_train) # we are fitting X and Y train \n",
    "score = classifier.score(X_test, label_test) # checking the score of our test using X and Y \n",
    "print (\"Accuracy: \", score)\n"
   ]
  },
  {
   "cell_type": "code",
   "execution_count": null,
   "id": "fa3b2e89",
   "metadata": {},
   "outputs": [],
   "source": []
  }
 ],
 "metadata": {
  "kernelspec": {
   "display_name": "Python 3 (ipykernel)",
   "language": "python",
   "name": "python3"
  },
  "language_info": {
   "codemirror_mode": {
    "name": "ipython",
    "version": 3
   },
   "file_extension": ".py",
   "mimetype": "text/x-python",
   "name": "python",
   "nbconvert_exporter": "python",
   "pygments_lexer": "ipython3",
   "version": "3.9.7"
  }
 },
 "nbformat": 4,
 "nbformat_minor": 5
}
