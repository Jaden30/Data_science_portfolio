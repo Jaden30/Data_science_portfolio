{
 "cells": [
  {
   "cell_type": "markdown",
   "metadata": {},
   "source": [
    "# U.S. Medical Insurance Costs"
   ]
  },
  {
   "cell_type": "code",
   "execution_count": 40,
   "metadata": {},
   "outputs": [
    {
     "data": {
      "text/html": [
       "<div>\n",
       "<style scoped>\n",
       "    .dataframe tbody tr th:only-of-type {\n",
       "        vertical-align: middle;\n",
       "    }\n",
       "\n",
       "    .dataframe tbody tr th {\n",
       "        vertical-align: top;\n",
       "    }\n",
       "\n",
       "    .dataframe thead th {\n",
       "        text-align: right;\n",
       "    }\n",
       "</style>\n",
       "<table border=\"1\" class=\"dataframe\">\n",
       "  <thead>\n",
       "    <tr style=\"text-align: right;\">\n",
       "      <th></th>\n",
       "      <th>age</th>\n",
       "      <th>sex</th>\n",
       "      <th>bmi</th>\n",
       "      <th>children</th>\n",
       "      <th>smoker</th>\n",
       "      <th>region</th>\n",
       "      <th>charges</th>\n",
       "    </tr>\n",
       "  </thead>\n",
       "  <tbody>\n",
       "    <tr>\n",
       "      <th>0</th>\n",
       "      <td>19</td>\n",
       "      <td>female</td>\n",
       "      <td>27.90</td>\n",
       "      <td>0</td>\n",
       "      <td>yes</td>\n",
       "      <td>southwest</td>\n",
       "      <td>16884.9240</td>\n",
       "    </tr>\n",
       "    <tr>\n",
       "      <th>1</th>\n",
       "      <td>18</td>\n",
       "      <td>male</td>\n",
       "      <td>33.77</td>\n",
       "      <td>1</td>\n",
       "      <td>no</td>\n",
       "      <td>southeast</td>\n",
       "      <td>1725.5523</td>\n",
       "    </tr>\n",
       "  </tbody>\n",
       "</table>\n",
       "</div>"
      ],
      "text/plain": [
       "   age     sex    bmi  children smoker     region     charges\n",
       "0   19  female  27.90         0    yes  southwest  16884.9240\n",
       "1   18    male  33.77         1     no  southeast   1725.5523"
      ]
     },
     "execution_count": 40,
     "metadata": {},
     "output_type": "execute_result"
    }
   ],
   "source": [
    "import pandas as pd \n",
    "import statistics as stat\n",
    "import matplotlib.pyplot as plt\n",
    "insurance = pd.read_csv(\"insurance.csv\")\n",
    "insurance.head(2)"
   ]
  },
  {
   "cell_type": "code",
   "execution_count": 14,
   "metadata": {},
   "outputs": [],
   "source": [
    "# for age and sex \n",
    "age_sex = insurance[['age', 'sex']]\n",
    "sex = insurance[\"sex\"].tolist()\n",
    "age = insurance['age'].tolist()\n",
    "no_of_sex = {}\n",
    "# to get the number of males and females in the data\n",
    "female_count = 0\n",
    "male_count = 0 \n",
    "for i in sex:\n",
    "    if i == \"female\":\n",
    "        female_count = female_count + 1\n",
    "    else: \n",
    "        male_count = male_count + 1\n",
    "no_of_sex[\"male\"] = male_count \n",
    "no_of_sex[\"female\"] = female_count \n"
   ]
  },
  {
   "cell_type": "code",
   "execution_count": 21,
   "metadata": {},
   "outputs": [
    {
     "data": {
      "text/plain": [
       "<function matplotlib.pyplot.show(close=None, block=None)>"
      ]
     },
     "execution_count": 21,
     "metadata": {},
     "output_type": "execute_result"
    },
    {
     "data": {
      "image/png": "[encoded data removed]",
      "text/plain": [
       "<Figure size 432x288 with 1 Axes>"
      ]
     },
     "metadata": {
      "needs_background": "light"
     },
     "output_type": "display_data"
    }
   ],
   "source": [
    "# plot for no of sexes in the plot \n",
    "sex = list(no_of_sex.keys())\n",
    "no_of_sexes = list(no_of_sex.values())\n",
    "plt.bar(range(len(no_of_sex)), no_of_sexes, tick_label=sex)\n",
    "plt.show"
   ]
  },
  {
   "cell_type": "code",
   "execution_count": 20,
   "metadata": {},
   "outputs": [
    {
     "name": "stdout",
     "output_type": "stream",
     "text": [
      "{'18-30': 375, '31-40': 257, '41-50': 281, '51-64': 425}\n"
     ]
    }
   ],
   "source": [
    "# to check for the lowest age in the plot \n",
    "age_set = set(age)\n",
    "smallest_number = min(age_set) #18\n",
    "biggest_number = max(age_set) #64\n",
    "ages_disparity = {}\n",
    "under_30 = 0 \n",
    "under_40 = 0\n",
    "under_50 = 0\n",
    "under_70 = 0\n",
    "for i in age:\n",
    "    if i > 18 and i <= 30:\n",
    "        under_30 = under_30 + 1\n",
    "    elif i > 30 and i <= 40: \n",
    "        under_40 = under_40 + 1\n",
    "    elif i > 40 and i <= 50:\n",
    "        under_50 = under_50 + 1 \n",
    "    else:\n",
    "        under_70 = under_70 + 1 \n",
    "ages_disparity[\"18-30\"] = under_30\n",
    "ages_disparity[\"31-40\"] = under_40\n",
    "ages_disparity[\"41-50\"] = under_50 \n",
    "ages_disparity[\"51-64\"] = under_70\n"
   ]
  },
  {
   "cell_type": "code",
   "execution_count": 24,
   "metadata": {},
   "outputs": [
    {
     "data": {
      "text/plain": [
       "<function matplotlib.pyplot.show(close=None, block=None)>"
      ]
     },
     "execution_count": 24,
     "metadata": {},
     "output_type": "execute_result"
    },
    {
     "data": {
      "image/png": "[encoded data removed]",
      "text/plain": [
       "<Figure size 432x288 with 1 Axes>"
      ]
     },
     "metadata": {
      "needs_background": "light"
     },
     "output_type": "display_data"
    }
   ],
   "source": [
    "# draw a plot for the ages_disparity \n",
    "ages = list(ages_disparity.keys())\n",
    "age_number = list(ages_disparity.values())\n",
    "plt.bar(range(len(ages)), age_number, tick_label=ages)\n",
    "plt.show # shows that the data has more people between the ages of 51-64 \n",
    "# closely followed by 18-30, can also take into the account that the disparity is greater than others"
   ]
  },
  {
   "cell_type": "code",
   "execution_count": 46,
   "metadata": {},
   "outputs": [
    {
     "name": "stdout",
     "output_type": "stream",
     "text": [
      "{'northwest', 'northeast', 'southeast', 'southwest'}\n"
     ]
    }
   ],
   "source": [
    "insurance_cost = insurance[\"charges\"].tolist()\n",
    "location = insurance[\"region\"].tolist()\n",
    "print(set(location))\n",
    "location_cost = list(zip(location, insurance_cost))\n",
    "location_disparity = {}\n",
    "Northwest = []\n",
    "Northeast = []\n",
    "Southeast = []\n",
    "Southwest = []\n",
    "for i in location_cost: \n",
    "    if i[0] == \"northwest\":\n",
    "        Northwest.append(i[1])\n",
    "    elif i[0] == \"northeast\":\n",
    "        Northeast.append(i[1])\n",
    "    elif i[0] == \"southeast\":\n",
    "        Southeast.append(i[1])\n",
    "    else:\n",
    "        Southwest.append(i[1])\n",
    "northwest_mean = stat.mean(Northwest)\n",
    "northeast_mean = stat.mean(Northeast)\n",
    "southeast_mean = stat.mean(Northeast)\n",
    "southwest_mean = stat.mean(Southwest)\n",
    "location_disparity[\"northwest\"] = northwest_mean\n",
    "location_disparity[\"southwest\"] = southwest_mean\n",
    "location_disparity[\"northeast\"] = northeast_mean\n",
    "location_disparity[\"southeast\"] = southeast_mean"
   ]
  },
  {
   "cell_type": "code",
   "execution_count": 44,
   "metadata": {},
   "outputs": [
    {
     "data": {
      "image/png": "[encoded data removed]",
      "text/plain": [
       "<Figure size 432x288 with 1 Axes>"
      ]
     },
     "metadata": {
      "needs_background": "light"
     },
     "output_type": "display_data"
    }
   ],
   "source": [
    "#draw a plot for the average cost per location \n",
    "names_location = list(location_disparity.keys())\n",
    "average_cost = list(location_disparity.values())\n",
    "plt.bar(range(len(names_location)), average_cost, tick_label=names_location)\n",
    "plt.show() # shows the east is more expensive than other parts of the country "
   ]
  },
  {
   "cell_type": "code",
   "execution_count": 74,
   "metadata": {},
   "outputs": [
    {
     "name": "stdout",
     "output_type": "stream",
     "text": [
      "age                18\n",
      "sex              male\n",
      "bmi             23.21\n",
      "children            0\n",
      "smoker             no\n",
      "region      southeast\n",
      "charges     1121.8739\n",
      "Name: 940, dtype: object\n"
     ]
    }
   ],
   "source": [
    "# to get the highest insurance cost and the lowest insurance cost, so you can give informed information about who has the best form of unsurance \n",
    "highest_insurance_cost = max(insurance_cost)\n",
    "lowest_insurance_cost = min(insurance_cost)\n",
    "for index,value in enumerate(insurance_cost):\n",
    "    if value == highest_insurance_cost:\n",
    "        index_high = index\n",
    "    if value == lowest_insurance_cost:\n",
    "        index_lower = index\n",
    "lower = insurance.iloc[ index_lower]\n",
    "print(lower)\n",
    "high = insurance.iloc[index_high]"
   ]
  },
  {
   "cell_type": "code",
   "execution_count": 85,
   "metadata": {},
   "outputs": [
    {
     "name": "stdout",
     "output_type": "stream",
     "text": [
      "It is clear to have a lower insurance cost you need to be a male and be 18 and also have 0 child/children with a body mass index of 23.21 and non_smoker\n"
     ]
    }
   ],
   "source": [
    "# suggestive information\n",
    "smokering = lower[\"smoker\"]\n",
    "smoke = \"non_smoker\" if smokering == \"no\" else \"smoker\" \n",
    "print(\"It is clear to have a lower insurance cost you need to be a \" + lower['sex'] + \" and be \" + str(lower[\"age\"])\n",
    "     + \" and also have \" + str(lower[\"children\"]) + \" child/children with a body mass index of \" + str(lower[\"bmi\"]) + \" and \" + smoke )"
   ]
  },
  {
   "cell_type": "code",
   "execution_count": null,
   "metadata": {},
   "outputs": [],
   "source": []
  }
 ],
 "metadata": {
  "kernelspec": {
   "display_name": "Python 3 (ipykernel)",
   "language": "python",
   "name": "python3"
  },
  "language_info": {
   "codemirror_mode": {
    "name": "ipython",
    "version": 3
   },
   "file_extension": ".py",
   "mimetype": "text/x-python",
   "name": "python",
   "nbconvert_exporter": "python",
   "pygments_lexer": "ipython3",
   "version": "3.9.7"
  }
 },
 "nbformat": 4,
 "nbformat_minor": 4
}
