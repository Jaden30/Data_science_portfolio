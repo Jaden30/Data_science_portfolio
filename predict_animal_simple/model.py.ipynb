{
 "cells": [
  {
   "cell_type": "code",
   "execution_count": 1,
   "id": "89b61487",
   "metadata": {},
   "outputs": [
    {
     "data": {
      "text/plain": [
       "LogisticRegression()"
      ]
     },
     "execution_count": 1,
     "metadata": {},
     "output_type": "execute_result"
    }
   ],
   "source": [
    "import pandas as pd \n",
    "from sklearn.linear_model import LogisticRegression \n",
    "\n",
    "df = pd.read_csv(\"data.csv\")\n",
    "\n",
    "X = df[[\"Height\", \"Weight\", \"Eye\"]]\n",
    "# to replace this \n",
    "X = X.replace([\"Brown\", \"Blue\"], [1,0])\n",
    "\n",
    "y = df[\"Species\"]\n",
    "clf = LogisticRegression()\n",
    "clf.fit(X,y)"
   ]
  },
  {
   "cell_type": "code",
   "execution_count": 2,
   "id": "28611fe9",
   "metadata": {},
   "outputs": [
    {
     "data": {
      "text/plain": [
       "['clf.pkl']"
      ]
     },
     "execution_count": 2,
     "metadata": {},
     "output_type": "execute_result"
    }
   ],
   "source": [
    "# pickling the model is storing the model into a .pkl files. \n",
    "# The purpose is to seperate the training process and the user experience \n",
    "import joblib \n",
    "joblib.dump(clf, \"clf.pkl\")"
   ]
  },
  {
   "cell_type": "code",
   "execution_count": null,
   "id": "4131947e",
   "metadata": {},
   "outputs": [],
   "source": []
  }
 ],
 "metadata": {
  "kernelspec": {
   "display_name": "Python 3 (ipykernel)",
   "language": "python",
   "name": "python3"
  },
  "language_info": {
   "codemirror_mode": {
    "name": "ipython",
    "version": 3
   },
   "file_extension": ".py",
   "mimetype": "text/x-python",
   "name": "python",
   "nbconvert_exporter": "python",
   "pygments_lexer": "ipython3",
   "version": "3.9.7"
  }
 },
 "nbformat": 4,
 "nbformat_minor": 5
}
